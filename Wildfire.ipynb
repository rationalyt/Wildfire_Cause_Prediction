{
  "nbformat": 4,
  "nbformat_minor": 5,
  "metadata": {
    "colab": {
      "name": "Wildfire.ipynb",
      "provenance": [],
      "collapsed_sections": [
        "aahTYoWxMZrg",
        "mpx6Gw11PHTa",
        "9wsG4kEPAWZo",
        "Ic1XRWHWoJIp",
        "P6Q9DYCQ9qtQ",
        "Sw_Nbml9AMp7",
        "nRrq9zB1k43G",
        "tOH0ikIHIORo",
        "mUVZWd-ENPg3"
      ]
    },
    "kernelspec": {
      "display_name": "Python 3",
      "language": "python",
      "name": "python3"
    },
    "language_info": {
      "codemirror_mode": {
        "name": "ipython",
        "version": 3
      },
      "file_extension": ".py",
      "mimetype": "text/x-python",
      "name": "python",
      "nbconvert_exporter": "python",
      "pygments_lexer": "ipython3",
      "version": "3.8.8"
    }
  },
  "cells": [
    {
      "cell_type": "code",
      "metadata": {
        "id": "93575a8b"
      },
      "source": [
        "#importing necessary libraries\n",
        "import sqlite3\n",
        "import pandas as pd\n",
        "import matplotlib.pyplot as plt\n",
        "import seaborn as sb\n",
        "import numpy as np\n",
        "from mpl_toolkits.mplot3d import Axes3D\n",
        "from sklearn.preprocessing import StandardScaler\n",
        "from sklearn import tree, preprocessing\n",
        "from sklearn.metrics import accuracy_score, plot_confusion_matrix, confusion_matrix, ConfusionMatrixDisplay,f1_score,precision_score,recall_score\n",
        "from sklearn.svm import SVC\n",
        "from sklearn.metrics import classification_report\n"
      ],
      "id": "93575a8b",
      "execution_count": null,
      "outputs": []
    },
    {
      "cell_type": "code",
      "metadata": {
        "colab": {
          "base_uri": "https://localhost:8080/"
        },
        "id": "ALuYJmkemgrq",
        "outputId": "14ae6d3e-6bff-40b0-9f19-8011e958ba0e"
      },
      "source": [
        "#Mounting Google Drive\n",
        "from google.colab import drive\n",
        "drive.mount('/content/drive')"
      ],
      "id": "ALuYJmkemgrq",
      "execution_count": null,
      "outputs": [
        {
          "output_type": "stream",
          "name": "stdout",
          "text": [
            "Drive already mounted at /content/drive; to attempt to forcibly remount, call drive.mount(\"/content/drive\", force_remount=True).\n"
          ]
        }
      ]
    },
    {
      "cell_type": "code",
      "metadata": {
        "colab": {
          "base_uri": "https://localhost:8080/"
        },
        "id": "jJq9DzDZjFcR",
        "outputId": "ac78f36a-1b84-41b6-f9aa-63d8342ced76"
      },
      "source": [
        "cd '/content/drive/MyDrive/ALDA_Project'"
      ],
      "id": "jJq9DzDZjFcR",
      "execution_count": null,
      "outputs": [
        {
          "output_type": "stream",
          "name": "stdout",
          "text": [
            "/content/drive/MyDrive/ALDA_Project\n"
          ]
        }
      ]
    },
    {
      "cell_type": "code",
      "metadata": {
        "id": "5Y_rtpddq9Zg"
      },
      "source": [
        "from sqlalchemy import create_engine\n",
        "my_conn=create_engine(\"sqlite:////content/drive/MyDrive/ALDA_Project/FPA_FOD_20170508.sqlite\")"
      ],
      "id": "5Y_rtpddq9Zg",
      "execution_count": null,
      "outputs": []
    },
    {
      "cell_type": "code",
      "metadata": {
        "id": "Vq3blnKvn_LT"
      },
      "source": [
        "# Reading the sql file \n",
        "df = pd.read_sql_query(\"SELECT FOD_ID, FIRE_YEAR, DISCOVERY_DATE, DISCOVERY_TIME, CONT_DATE, CONT_TIME, FIRE_SIZE, FIRE_SIZE_CLASS, LATITUDE, LONGITUDE, STATE, COUNTY, STAT_CAUSE_DESCR FROM Fires\", my_conn)\n",
        "df_original= df # a copy will be used later"
      ],
      "id": "Vq3blnKvn_LT",
      "execution_count": null,
      "outputs": []
    },
    {
      "cell_type": "code",
      "metadata": {
        "colab": {
          "base_uri": "https://localhost:8080/",
          "height": 202
        },
        "id": "d4719597",
        "outputId": "569253cb-a465-4980-a566-fb7d15d6ffd0"
      },
      "source": [
        "#converting the data to normal datatime format\n",
        "df['START_DATE'] = pd.to_datetime(df['DISCOVERY_DATE'] - pd.Timestamp(0).to_julian_date(), unit='D')\n",
        "df['END_DATE'] = pd.to_datetime(df['CONT_DATE'] - pd.Timestamp(0).to_julian_date(), unit='D')\n",
        "df.drop(['DISCOVERY_DATE', 'CONT_DATE'], axis=1, inplace=True)\n",
        "df['MONTH'] = pd.DatetimeIndex(df['START_DATE']).month\n",
        "# Reordering the columns\n",
        "new_cols=['FOD_ID', 'FIRE_YEAR','MONTH','START_DATE','DISCOVERY_TIME', 'END_DATE','CONT_TIME', 'FIRE_SIZE', 'FIRE_SIZE_CLASS', 'LATITUDE', 'LONGITUDE', 'STATE', 'COUNTY', 'STAT_CAUSE_DESCR']\n",
        "df=df.reindex(columns=new_cols)\n",
        "\n",
        "# First five rows\n",
        "df.head()"
      ],
      "id": "d4719597",
      "execution_count": null,
      "outputs": [
        {
          "output_type": "execute_result",
          "data": {
            "text/html": [
              "<div>\n",
              "<style scoped>\n",
              "    .dataframe tbody tr th:only-of-type {\n",
              "        vertical-align: middle;\n",
              "    }\n",
              "\n",
              "    .dataframe tbody tr th {\n",
              "        vertical-align: top;\n",
              "    }\n",
              "\n",
              "    .dataframe thead th {\n",
              "        text-align: right;\n",
              "    }\n",
              "</style>\n",
              "<table border=\"1\" class=\"dataframe\">\n",
              "  <thead>\n",
              "    <tr style=\"text-align: right;\">\n",
              "      <th></th>\n",
              "      <th>FOD_ID</th>\n",
              "      <th>FIRE_YEAR</th>\n",
              "      <th>MONTH</th>\n",
              "      <th>START_DATE</th>\n",
              "      <th>DISCOVERY_TIME</th>\n",
              "      <th>END_DATE</th>\n",
              "      <th>CONT_TIME</th>\n",
              "      <th>FIRE_SIZE</th>\n",
              "      <th>FIRE_SIZE_CLASS</th>\n",
              "      <th>LATITUDE</th>\n",
              "      <th>LONGITUDE</th>\n",
              "      <th>STATE</th>\n",
              "      <th>COUNTY</th>\n",
              "      <th>STAT_CAUSE_DESCR</th>\n",
              "    </tr>\n",
              "  </thead>\n",
              "  <tbody>\n",
              "    <tr>\n",
              "      <th>0</th>\n",
              "      <td>1</td>\n",
              "      <td>2005</td>\n",
              "      <td>2</td>\n",
              "      <td>2005-02-02</td>\n",
              "      <td>1300</td>\n",
              "      <td>2005-02-02</td>\n",
              "      <td>1730</td>\n",
              "      <td>0.10</td>\n",
              "      <td>A</td>\n",
              "      <td>40.036944</td>\n",
              "      <td>-121.005833</td>\n",
              "      <td>CA</td>\n",
              "      <td>63</td>\n",
              "      <td>Miscellaneous</td>\n",
              "    </tr>\n",
              "    <tr>\n",
              "      <th>1</th>\n",
              "      <td>2</td>\n",
              "      <td>2004</td>\n",
              "      <td>5</td>\n",
              "      <td>2004-05-12</td>\n",
              "      <td>0845</td>\n",
              "      <td>2004-05-12</td>\n",
              "      <td>1530</td>\n",
              "      <td>0.25</td>\n",
              "      <td>A</td>\n",
              "      <td>38.933056</td>\n",
              "      <td>-120.404444</td>\n",
              "      <td>CA</td>\n",
              "      <td>61</td>\n",
              "      <td>Lightning</td>\n",
              "    </tr>\n",
              "    <tr>\n",
              "      <th>2</th>\n",
              "      <td>3</td>\n",
              "      <td>2004</td>\n",
              "      <td>5</td>\n",
              "      <td>2004-05-31</td>\n",
              "      <td>1921</td>\n",
              "      <td>2004-05-31</td>\n",
              "      <td>2024</td>\n",
              "      <td>0.10</td>\n",
              "      <td>A</td>\n",
              "      <td>38.984167</td>\n",
              "      <td>-120.735556</td>\n",
              "      <td>CA</td>\n",
              "      <td>17</td>\n",
              "      <td>Debris Burning</td>\n",
              "    </tr>\n",
              "    <tr>\n",
              "      <th>3</th>\n",
              "      <td>4</td>\n",
              "      <td>2004</td>\n",
              "      <td>6</td>\n",
              "      <td>2004-06-28</td>\n",
              "      <td>1600</td>\n",
              "      <td>2004-07-03</td>\n",
              "      <td>1400</td>\n",
              "      <td>0.10</td>\n",
              "      <td>A</td>\n",
              "      <td>38.559167</td>\n",
              "      <td>-119.913333</td>\n",
              "      <td>CA</td>\n",
              "      <td>3</td>\n",
              "      <td>Lightning</td>\n",
              "    </tr>\n",
              "    <tr>\n",
              "      <th>4</th>\n",
              "      <td>5</td>\n",
              "      <td>2004</td>\n",
              "      <td>6</td>\n",
              "      <td>2004-06-28</td>\n",
              "      <td>1600</td>\n",
              "      <td>2004-07-03</td>\n",
              "      <td>1200</td>\n",
              "      <td>0.10</td>\n",
              "      <td>A</td>\n",
              "      <td>38.559167</td>\n",
              "      <td>-119.933056</td>\n",
              "      <td>CA</td>\n",
              "      <td>3</td>\n",
              "      <td>Lightning</td>\n",
              "    </tr>\n",
              "  </tbody>\n",
              "</table>\n",
              "</div>"
            ],
            "text/plain": [
              "   FOD_ID  FIRE_YEAR  MONTH  ... STATE COUNTY STAT_CAUSE_DESCR\n",
              "0       1       2005      2  ...    CA     63    Miscellaneous\n",
              "1       2       2004      5  ...    CA     61        Lightning\n",
              "2       3       2004      5  ...    CA     17   Debris Burning\n",
              "3       4       2004      6  ...    CA      3        Lightning\n",
              "4       5       2004      6  ...    CA      3        Lightning\n",
              "\n",
              "[5 rows x 14 columns]"
            ]
          },
          "metadata": {},
          "execution_count": 6
        }
      ]
    },
    {
      "cell_type": "code",
      "metadata": {
        "colab": {
          "base_uri": "https://localhost:8080/"
        },
        "id": "3yuUVK-UaJ97",
        "outputId": "dae339d0-a640-4465-a546-8852da73e095"
      },
      "source": [
        "df.shape"
      ],
      "id": "3yuUVK-UaJ97",
      "execution_count": null,
      "outputs": [
        {
          "output_type": "execute_result",
          "data": {
            "text/plain": [
              "(1880465, 14)"
            ]
          },
          "metadata": {},
          "execution_count": 7
        }
      ]
    },
    {
      "cell_type": "markdown",
      "metadata": {
        "id": "aahTYoWxMZrg"
      },
      "source": [
        "## EDA"
      ],
      "id": "aahTYoWxMZrg"
    },
    {
      "cell_type": "code",
      "metadata": {
        "colab": {
          "base_uri": "https://localhost:8080/"
        },
        "id": "CPBUbL2gsl42",
        "outputId": "aab38e28-774d-4285-fd4a-fa68988586f7"
      },
      "source": [
        "#check mising values and columns\n",
        "df.columns[df.isnull().any()].tolist() "
      ],
      "id": "CPBUbL2gsl42",
      "execution_count": null,
      "outputs": [
        {
          "output_type": "execute_result",
          "data": {
            "text/plain": [
              "['DISCOVERY_TIME', 'END_DATE', 'CONT_TIME', 'COUNTY']"
            ]
          },
          "metadata": {},
          "execution_count": 8
        }
      ]
    },
    {
      "cell_type": "code",
      "metadata": {
        "colab": {
          "base_uri": "https://localhost:8080/"
        },
        "id": "79dVv_NZvGTe",
        "outputId": "767fa41b-9d14-4a01-f4c2-56166e2f4786"
      },
      "source": [
        "# Number of Fires and different reasons\n",
        "df['STAT_CAUSE_DESCR'].value_counts().plot(kind='barh')\n",
        "plt.title('WildFire Reasons and Count')\n",
        "plt.show()\n"
      ],
      "id": "79dVv_NZvGTe",
      "execution_count": null,
      "outputs": [
        {
          "output_type": "display_data",
          "data": {
            "image/png": "[encoded data removed]",
            "text/plain": [
              "<Figure size 432x288 with 1 Axes>"
            ]
          },
          "metadata": {
            "needs_background": "light"
          }
        }
      ]
    },
    {
      "cell_type": "code",
      "metadata": {
        "colab": {
          "base_uri": "https://localhost:8080/"
        },
        "id": "Mo1KgK-OZqKe",
        "outputId": "21f52bf9-2286-4431-accf-bcea13860cba"
      },
      "source": [
        "causes = df['STAT_CAUSE_DESCR'].value_counts()\n",
        "fig = plt.figure(figsize =(10, 7))\n",
        "plt.pie(causes, autopct='%1.1f%%',labels=causes.index)\n",
        "plt.show()"
      ],
      "id": "Mo1KgK-OZqKe",
      "execution_count": null,
      "outputs": [
        {
          "output_type": "display_data",
          "data": {
            "image/png": "[encoded data removed]",
            "text/plain": [
              "<Figure size 720x504 with 1 Axes>"
            ]
          },
          "metadata": {}
        }
      ]
    },
    {
      "cell_type": "markdown",
      "metadata": {
        "id": "cnDbdeUbZxs7"
      },
      "source": [
        "Debris burning , Arson, Lightning are the major causes of wildfire accounting for more than 50% of total wildfires"
      ],
      "id": "cnDbdeUbZxs7"
    },
    {
      "cell_type": "code",
      "metadata": {
        "colab": {
          "base_uri": "https://localhost:8080/"
        },
        "id": "oaU04JkmZ7ur",
        "outputId": "ab7f1511-c141-4b52-ca39-2932e3c115b2"
      },
      "source": [
        "df['FIRE_YEAR'].value_counts().plot(kind='barh',color='lightblue')\n",
        "plt.show()"
      ],
      "id": "oaU04JkmZ7ur",
      "execution_count": null,
      "outputs": [
        {
          "output_type": "display_data",
          "data": {
            "image/png": "[encoded data removed]",
            "text/plain": [
              "<Figure size 432x288 with 1 Axes>"
            ]
          },
          "metadata": {
            "needs_background": "light"
          }
        }
      ]
    },
    {
      "cell_type": "markdown",
      "metadata": {
        "id": "WlEXM42yaBpm"
      },
      "source": [
        "There is no significant difference in year on year wildfire count"
      ],
      "id": "WlEXM42yaBpm"
    },
    {
      "cell_type": "code",
      "metadata": {
        "colab": {
          "base_uri": "https://localhost:8080/"
        },
        "id": "EIUvNIb3aN16",
        "outputId": "4efd87a3-c297-4b15-d06f-24cc3d694422"
      },
      "source": [
        "months = df['MONTH'].value_counts()\n",
        "fig = plt.figure(figsize =(10, 7))\n",
        "plt.pie(months, autopct='%1.1f%%',labels=months.index)\n",
        "plt.show()"
      ],
      "id": "EIUvNIb3aN16",
      "execution_count": null,
      "outputs": [
        {
          "output_type": "display_data",
          "data": {
            "image/png": "[encoded data removed]",
            "text/plain": [
              "<Figure size 720x504 with 1 Axes>"
            ]
          },
          "metadata": {}
        }
      ]
    },
    {
      "cell_type": "markdown",
      "metadata": {
        "id": "kWCluJJXaSP8"
      },
      "source": [
        "There is significant difference between wildfire count from October-January and February-September. It might be because of weather, since weather is cold from October-January which is not conducive for wildfire. "
      ],
      "id": "kWCluJJXaSP8"
    },
    {
      "cell_type": "code",
      "metadata": {
        "colab": {
          "base_uri": "https://localhost:8080/"
        },
        "id": "xKMI0Ej-vqKy",
        "outputId": "e855cd0e-bace-4df4-9707-ab49a674c080"
      },
      "source": [
        "# Plotting statewise firecount\n",
        "df['STATE'].value_counts().head(n=10).plot(kind='barh')\n",
        "plt.title('StateWise fire count')\n",
        "plt.show()"
      ],
      "id": "xKMI0Ej-vqKy",
      "execution_count": null,
      "outputs": [
        {
          "output_type": "display_data",
          "data": {
            "image/png": "[encoded data removed]",
            "text/plain": [
              "<Figure size 432x288 with 1 Axes>"
            ]
          },
          "metadata": {
            "needs_background": "light"
          }
        }
      ]
    },
    {
      "cell_type": "code",
      "metadata": {
        "id": "eMoNXKDFalGf"
      },
      "source": [
        "df_CA = df[df['STATE']=='CA']\n",
        "df_GA = df[df['STATE']=='GA']\n",
        "df_TX = df[df['STATE']=='TX']"
      ],
      "id": "eMoNXKDFalGf",
      "execution_count": null,
      "outputs": []
    },
    {
      "cell_type": "code",
      "metadata": {
        "colab": {
          "base_uri": "https://localhost:8080/"
        },
        "id": "9VqgTUzqaoIo",
        "outputId": "dbd82737-a7b6-4b43-94e2-2cd1efd0f88d"
      },
      "source": [
        "df_CA['STAT_CAUSE_DESCR'].value_counts().plot(kind='barh',color='lightblue',title='causes of fires for CA')\n",
        "plt.show()"
      ],
      "id": "9VqgTUzqaoIo",
      "execution_count": null,
      "outputs": [
        {
          "output_type": "display_data",
          "data": {
            "image/png": "[encoded data removed]",
            "text/plain": [
              "<Figure size 432x288 with 1 Axes>"
            ]
          },
          "metadata": {
            "needs_background": "light"
          }
        }
      ]
    },
    {
      "cell_type": "code",
      "metadata": {
        "colab": {
          "base_uri": "https://localhost:8080/"
        },
        "id": "7YHbaOAHatTc",
        "outputId": "d5b26432-1432-4567-f6d0-8a4ab081ee4c"
      },
      "source": [
        "df_GA['STAT_CAUSE_DESCR'].value_counts().plot(kind='barh',color='lightblue',title='causes of fires for GA')\n",
        "plt.show()"
      ],
      "id": "7YHbaOAHatTc",
      "execution_count": null,
      "outputs": [
        {
          "output_type": "display_data",
          "data": {
            "image/png": "[encoded data removed]",
            "text/plain": [
              "<Figure size 432x288 with 1 Axes>"
            ]
          },
          "metadata": {
            "needs_background": "light"
          }
        }
      ]
    },
    {
      "cell_type": "code",
      "metadata": {
        "colab": {
          "base_uri": "https://localhost:8080/"
        },
        "id": "YKFM9FT0awfT",
        "outputId": "534d2608-ca57-4db0-9662-678d637f9772"
      },
      "source": [
        "df_TX['STAT_CAUSE_DESCR'].value_counts().plot(kind='barh',color='lightblue',title='causes of fires for TX')\n",
        "plt.show()"
      ],
      "id": "YKFM9FT0awfT",
      "execution_count": null,
      "outputs": [
        {
          "output_type": "display_data",
          "data": {
            "image/png": "[encoded data removed]",
            "text/plain": [
              "<Figure size 432x288 with 1 Axes>"
            ]
          },
          "metadata": {
            "needs_background": "light"
          }
        }
      ]
    },
    {
      "cell_type": "code",
      "metadata": {
        "colab": {
          "base_uri": "https://localhost:8080/"
        },
        "id": "4Azv0T2pytvx",
        "outputId": "e2e689ff-2889-41f1-d8f1-07f01e19f125"
      },
      "source": [
        "# plotting firesize vs firecause\n",
        "df1 = df.groupby('STAT_CAUSE_DESCR').mean()\n",
        "plt.bar(df['STAT_CAUSE_DESCR'].unique(),df1['FIRE_SIZE'])\n",
        "plt.xticks(rotation=90)\n",
        "plt.title('Average Fire size (in acres) v/s Fire Cause')\n",
        "plt.show()\n"
      ],
      "id": "4Azv0T2pytvx",
      "execution_count": null,
      "outputs": [
        {
          "output_type": "display_data",
          "data": {
            "image/png": "[encoded data removed]",
            "text/plain": [
              "<Figure size 432x288 with 1 Axes>"
            ]
          },
          "metadata": {
            "needs_background": "light"
          }
        }
      ]
    },
    {
      "cell_type": "markdown",
      "metadata": {
        "id": "iGkAOzcka7--"
      },
      "source": [
        "Causes of fire vary state by state, so location will be critical attribute in prediction."
      ],
      "id": "iGkAOzcka7--"
    },
    {
      "cell_type": "markdown",
      "metadata": {
        "id": "69s3lmvoD5go"
      },
      "source": [
        "# Visualising the Dataset:\n"
      ],
      "id": "69s3lmvoD5go"
    },
    {
      "cell_type": "code",
      "metadata": {
        "id": "Zjal5fZC0_2v"
      },
      "source": [
        "le = preprocessing.LabelEncoder()\n",
        "df['STAT_CAUSE_DESCR'] = le.fit_transform(df['STAT_CAUSE_DESCR'])\n",
        "df['STATE'] = le.fit_transform(df['STATE'])\n",
        "df.rename(columns = {\"STAT_CAUSE_DESCR\":\"CAUSE\"}, inplace=\"True\")"
      ],
      "id": "Zjal5fZC0_2v",
      "execution_count": null,
      "outputs": []
    },
    {
      "cell_type": "code",
      "metadata": {
        "colab": {
          "base_uri": "https://localhost:8080/",
          "height": 202
        },
        "id": "PTbUc9_J1FI3",
        "outputId": "002b3af7-f25a-4197-df75-e32379a029a6"
      },
      "source": [
        "df.head()"
      ],
      "id": "PTbUc9_J1FI3",
      "execution_count": null,
      "outputs": [
        {
          "output_type": "execute_result",
          "data": {
            "text/html": [
              "<div>\n",
              "<style scoped>\n",
              "    .dataframe tbody tr th:only-of-type {\n",
              "        vertical-align: middle;\n",
              "    }\n",
              "\n",
              "    .dataframe tbody tr th {\n",
              "        vertical-align: top;\n",
              "    }\n",
              "\n",
              "    .dataframe thead th {\n",
              "        text-align: right;\n",
              "    }\n",
              "</style>\n",
              "<table border=\"1\" class=\"dataframe\">\n",
              "  <thead>\n",
              "    <tr style=\"text-align: right;\">\n",
              "      <th></th>\n",
              "      <th>FOD_ID</th>\n",
              "      <th>FIRE_YEAR</th>\n",
              "      <th>MONTH</th>\n",
              "      <th>START_DATE</th>\n",
              "      <th>DISCOVERY_TIME</th>\n",
              "      <th>END_DATE</th>\n",
              "      <th>CONT_TIME</th>\n",
              "      <th>FIRE_SIZE</th>\n",
              "      <th>FIRE_SIZE_CLASS</th>\n",
              "      <th>LATITUDE</th>\n",
              "      <th>LONGITUDE</th>\n",
              "      <th>STATE</th>\n",
              "      <th>COUNTY</th>\n",
              "      <th>CAUSE</th>\n",
              "    </tr>\n",
              "  </thead>\n",
              "  <tbody>\n",
              "    <tr>\n",
              "      <th>0</th>\n",
              "      <td>1</td>\n",
              "      <td>2005</td>\n",
              "      <td>2</td>\n",
              "      <td>2005-02-02</td>\n",
              "      <td>1300</td>\n",
              "      <td>2005-02-02</td>\n",
              "      <td>1730</td>\n",
              "      <td>0.10</td>\n",
              "      <td>A</td>\n",
              "      <td>40.036944</td>\n",
              "      <td>-121.005833</td>\n",
              "      <td>4</td>\n",
              "      <td>63</td>\n",
              "      <td>7</td>\n",
              "    </tr>\n",
              "    <tr>\n",
              "      <th>1</th>\n",
              "      <td>2</td>\n",
              "      <td>2004</td>\n",
              "      <td>5</td>\n",
              "      <td>2004-05-12</td>\n",
              "      <td>0845</td>\n",
              "      <td>2004-05-12</td>\n",
              "      <td>1530</td>\n",
              "      <td>0.25</td>\n",
              "      <td>A</td>\n",
              "      <td>38.933056</td>\n",
              "      <td>-120.404444</td>\n",
              "      <td>4</td>\n",
              "      <td>61</td>\n",
              "      <td>6</td>\n",
              "    </tr>\n",
              "    <tr>\n",
              "      <th>2</th>\n",
              "      <td>3</td>\n",
              "      <td>2004</td>\n",
              "      <td>5</td>\n",
              "      <td>2004-05-31</td>\n",
              "      <td>1921</td>\n",
              "      <td>2004-05-31</td>\n",
              "      <td>2024</td>\n",
              "      <td>0.10</td>\n",
              "      <td>A</td>\n",
              "      <td>38.984167</td>\n",
              "      <td>-120.735556</td>\n",
              "      <td>4</td>\n",
              "      <td>17</td>\n",
              "      <td>3</td>\n",
              "    </tr>\n",
              "    <tr>\n",
              "      <th>3</th>\n",
              "      <td>4</td>\n",
              "      <td>2004</td>\n",
              "      <td>6</td>\n",
              "      <td>2004-06-28</td>\n",
              "      <td>1600</td>\n",
              "      <td>2004-07-03</td>\n",
              "      <td>1400</td>\n",
              "      <td>0.10</td>\n",
              "      <td>A</td>\n",
              "      <td>38.559167</td>\n",
              "      <td>-119.913333</td>\n",
              "      <td>4</td>\n",
              "      <td>3</td>\n",
              "      <td>6</td>\n",
              "    </tr>\n",
              "    <tr>\n",
              "      <th>4</th>\n",
              "      <td>5</td>\n",
              "      <td>2004</td>\n",
              "      <td>6</td>\n",
              "      <td>2004-06-28</td>\n",
              "      <td>1600</td>\n",
              "      <td>2004-07-03</td>\n",
              "      <td>1200</td>\n",
              "      <td>0.10</td>\n",
              "      <td>A</td>\n",
              "      <td>38.559167</td>\n",
              "      <td>-119.933056</td>\n",
              "      <td>4</td>\n",
              "      <td>3</td>\n",
              "      <td>6</td>\n",
              "    </tr>\n",
              "  </tbody>\n",
              "</table>\n",
              "</div>"
            ],
            "text/plain": [
              "   FOD_ID  FIRE_YEAR  MONTH START_DATE  ...   LONGITUDE STATE COUNTY  CAUSE\n",
              "0       1       2005      2 2005-02-02  ... -121.005833     4     63      7\n",
              "1       2       2004      5 2004-05-12  ... -120.404444     4     61      6\n",
              "2       3       2004      5 2004-05-31  ... -120.735556     4     17      3\n",
              "3       4       2004      6 2004-06-28  ... -119.913333     4      3      6\n",
              "4       5       2004      6 2004-06-28  ... -119.933056     4      3      6\n",
              "\n",
              "[5 rows x 14 columns]"
            ]
          },
          "metadata": {},
          "execution_count": 20
        }
      ]
    },
    {
      "cell_type": "code",
      "metadata": {
        "id": "kfcKRptX09TK"
      },
      "source": [
        "df['DAY_OF_WEEK'] = pd.DatetimeIndex(df['START_DATE']).weekday"
      ],
      "id": "kfcKRptX09TK",
      "execution_count": null,
      "outputs": []
    },
    {
      "cell_type": "code",
      "metadata": {
        "colab": {
          "base_uri": "https://localhost:8080/",
          "height": 500
        },
        "id": "Zkc28mp-0IOs",
        "outputId": "15bdfb90-34f5-4c0b-c02b-99ad751e8820"
      },
      "source": [
        "#Corralation\n",
        "plt.figure(figsize=(12, 8))\n",
        "df_copy = df.drop('FOD_ID', axis=1)\n",
        "corr = df_copy.corr()\n",
        "sb.heatmap(corr, annot=True)\n",
        "plt.title('Correalation Matrix')\n",
        "plt.show()\n"
      ],
      "id": "Zkc28mp-0IOs",
      "execution_count": null,
      "outputs": [
        {
          "output_type": "display_data",
          "data": {
            "image/png": "[encoded data removed]",
            "text/plain": [
              "<Figure size 864x576 with 2 Axes>"
            ]
          },
          "metadata": {
            "needs_background": "light"
          }
        }
      ]
    },
    {
      "cell_type": "code",
      "metadata": {
        "colab": {
          "base_uri": "https://localhost:8080/",
          "height": 202
        },
        "id": "Xl1awiub2Ph6",
        "outputId": "515eaec3-41ad-4479-deb6-01fc18c8a8fd"
      },
      "source": [
        "df.head()"
      ],
      "id": "Xl1awiub2Ph6",
      "execution_count": null,
      "outputs": [
        {
          "output_type": "execute_result",
          "data": {
            "text/html": [
              "<div>\n",
              "<style scoped>\n",
              "    .dataframe tbody tr th:only-of-type {\n",
              "        vertical-align: middle;\n",
              "    }\n",
              "\n",
              "    .dataframe tbody tr th {\n",
              "        vertical-align: top;\n",
              "    }\n",
              "\n",
              "    .dataframe thead th {\n",
              "        text-align: right;\n",
              "    }\n",
              "</style>\n",
              "<table border=\"1\" class=\"dataframe\">\n",
              "  <thead>\n",
              "    <tr style=\"text-align: right;\">\n",
              "      <th></th>\n",
              "      <th>FOD_ID</th>\n",
              "      <th>FIRE_YEAR</th>\n",
              "      <th>MONTH</th>\n",
              "      <th>START_DATE</th>\n",
              "      <th>DISCOVERY_TIME</th>\n",
              "      <th>END_DATE</th>\n",
              "      <th>CONT_TIME</th>\n",
              "      <th>FIRE_SIZE</th>\n",
              "      <th>FIRE_SIZE_CLASS</th>\n",
              "      <th>LATITUDE</th>\n",
              "      <th>LONGITUDE</th>\n",
              "      <th>STATE</th>\n",
              "      <th>COUNTY</th>\n",
              "      <th>CAUSE</th>\n",
              "      <th>DAY_OF_WEEK</th>\n",
              "    </tr>\n",
              "  </thead>\n",
              "  <tbody>\n",
              "    <tr>\n",
              "      <th>0</th>\n",
              "      <td>1</td>\n",
              "      <td>2005</td>\n",
              "      <td>2</td>\n",
              "      <td>2005-02-02</td>\n",
              "      <td>1300</td>\n",
              "      <td>2005-02-02</td>\n",
              "      <td>1730</td>\n",
              "      <td>0.10</td>\n",
              "      <td>A</td>\n",
              "      <td>40.036944</td>\n",
              "      <td>-121.005833</td>\n",
              "      <td>4</td>\n",
              "      <td>63</td>\n",
              "      <td>7</td>\n",
              "      <td>2</td>\n",
              "    </tr>\n",
              "    <tr>\n",
              "      <th>1</th>\n",
              "      <td>2</td>\n",
              "      <td>2004</td>\n",
              "      <td>5</td>\n",
              "      <td>2004-05-12</td>\n",
              "      <td>0845</td>\n",
              "      <td>2004-05-12</td>\n",
              "      <td>1530</td>\n",
              "      <td>0.25</td>\n",
              "      <td>A</td>\n",
              "      <td>38.933056</td>\n",
              "      <td>-120.404444</td>\n",
              "      <td>4</td>\n",
              "      <td>61</td>\n",
              "      <td>6</td>\n",
              "      <td>2</td>\n",
              "    </tr>\n",
              "    <tr>\n",
              "      <th>2</th>\n",
              "      <td>3</td>\n",
              "      <td>2004</td>\n",
              "      <td>5</td>\n",
              "      <td>2004-05-31</td>\n",
              "      <td>1921</td>\n",
              "      <td>2004-05-31</td>\n",
              "      <td>2024</td>\n",
              "      <td>0.10</td>\n",
              "      <td>A</td>\n",
              "      <td>38.984167</td>\n",
              "      <td>-120.735556</td>\n",
              "      <td>4</td>\n",
              "      <td>17</td>\n",
              "      <td>3</td>\n",
              "      <td>0</td>\n",
              "    </tr>\n",
              "    <tr>\n",
              "      <th>3</th>\n",
              "      <td>4</td>\n",
              "      <td>2004</td>\n",
              "      <td>6</td>\n",
              "      <td>2004-06-28</td>\n",
              "      <td>1600</td>\n",
              "      <td>2004-07-03</td>\n",
              "      <td>1400</td>\n",
              "      <td>0.10</td>\n",
              "      <td>A</td>\n",
              "      <td>38.559167</td>\n",
              "      <td>-119.913333</td>\n",
              "      <td>4</td>\n",
              "      <td>3</td>\n",
              "      <td>6</td>\n",
              "      <td>0</td>\n",
              "    </tr>\n",
              "    <tr>\n",
              "      <th>4</th>\n",
              "      <td>5</td>\n",
              "      <td>2004</td>\n",
              "      <td>6</td>\n",
              "      <td>2004-06-28</td>\n",
              "      <td>1600</td>\n",
              "      <td>2004-07-03</td>\n",
              "      <td>1200</td>\n",
              "      <td>0.10</td>\n",
              "      <td>A</td>\n",
              "      <td>38.559167</td>\n",
              "      <td>-119.933056</td>\n",
              "      <td>4</td>\n",
              "      <td>3</td>\n",
              "      <td>6</td>\n",
              "      <td>0</td>\n",
              "    </tr>\n",
              "  </tbody>\n",
              "</table>\n",
              "</div>"
            ],
            "text/plain": [
              "   FOD_ID  FIRE_YEAR  MONTH START_DATE  ... STATE COUNTY CAUSE  DAY_OF_WEEK\n",
              "0       1       2005      2 2005-02-02  ...     4     63     7            2\n",
              "1       2       2004      5 2004-05-12  ...     4     61     6            2\n",
              "2       3       2004      5 2004-05-31  ...     4     17     3            0\n",
              "3       4       2004      6 2004-06-28  ...     4      3     6            0\n",
              "4       5       2004      6 2004-06-28  ...     4      3     6            0\n",
              "\n",
              "[5 rows x 15 columns]"
            ]
          },
          "metadata": {},
          "execution_count": 23
        }
      ]
    },
    {
      "cell_type": "code",
      "metadata": {
        "id": "ZrvcBVMS2tew"
      },
      "source": [
        "xdf = df.drop(['FOD_ID','START_DATE','DISCOVERY_TIME','END_DATE','CONT_TIME','FIRE_SIZE_CLASS','COUNTY','CAUSE'], axis=1)\n",
        "ydf = df['CAUSE']\n",
        "\n",
        "X = df.drop(['FOD_ID','START_DATE','DISCOVERY_TIME','END_DATE','CONT_TIME','FIRE_SIZE_CLASS','COUNTY','CAUSE'], axis=1).values\n",
        "y = df['CAUSE'].values"
      ],
      "id": "ZrvcBVMS2tew",
      "execution_count": null,
      "outputs": []
    },
    {
      "cell_type": "code",
      "metadata": {
        "id": "HvY7BEJq3zM3"
      },
      "source": [
        "from sklearn import tree, preprocessing\n",
        "import sklearn.ensemble as ske\n",
        "from sklearn.model_selection import train_test_split "
      ],
      "id": "HvY7BEJq3zM3",
      "execution_count": null,
      "outputs": []
    },
    {
      "cell_type": "code",
      "metadata": {
        "id": "ww2L5wT33_C7"
      },
      "source": [
        "X_train, X_test, y_train, y_test = train_test_split(X,y,test_size=0.3, random_state=0) "
      ],
      "id": "ww2L5wT33_C7",
      "execution_count": null,
      "outputs": []
    },
    {
      "cell_type": "code",
      "metadata": {
        "id": "zYFRSV3x4Ggc"
      },
      "source": [
        "#model1 = ske.RandomForestClassifier(n_estimators=50)\n",
        "#model1 = model1.fit(X_train, y_train)\n",
        "#print(model1.score(X_test,y_test))"
      ],
      "id": "zYFRSV3x4Ggc",
      "execution_count": null,
      "outputs": []
    },
    {
      "cell_type": "code",
      "metadata": {
        "colab": {
          "base_uri": "https://localhost:8080/"
        },
        "id": "fYEfa7SP6ZBr",
        "outputId": "bf3b8603-76f2-4da8-b59d-250a93cf1b8a"
      },
      "source": [
        "def set_label(cat):\n",
        "    cause = 0\n",
        "    natural = ['Lightning']\n",
        "    accidental = ['Structure','Fireworks','Powerline','Railroad','Smoking','Children','Campfire','Equipment Use','Debris Burning']\n",
        "    malicious = ['Arson']\n",
        "    other = ['Missing/Undefined','Miscellaneous']\n",
        "    if cat in natural:\n",
        "        cause = 1\n",
        "    elif cat in accidental:\n",
        "        cause = 2\n",
        "    elif cat in malicious:\n",
        "        cause = 3\n",
        "    else:\n",
        "        cause = 4\n",
        "    return cause\n",
        "     \n",
        "\n",
        "df['LABEL'] = df_original['STAT_CAUSE_DESCR'].apply(lambda x: set_label(x)) # I created a copy of the original df earlier in the kernel\n",
        "df = df.drop('CAUSE',axis=1)\n",
        "print(df.head())"
      ],
      "id": "fYEfa7SP6ZBr",
      "execution_count": null,
      "outputs": [
        {
          "output_type": "stream",
          "name": "stdout",
          "text": [
            "   FOD_ID  FIRE_YEAR  MONTH START_DATE  ... STATE COUNTY DAY_OF_WEEK  LABEL\n",
            "0       1       2005      2 2005-02-02  ...     4     63           2      4\n",
            "1       2       2004      5 2004-05-12  ...     4     61           2      1\n",
            "2       3       2004      5 2004-05-31  ...     4     17           0      2\n",
            "3       4       2004      6 2004-06-28  ...     4      3           0      1\n",
            "4       5       2004      6 2004-06-28  ...     4      3           0      1\n",
            "\n",
            "[5 rows x 15 columns]\n"
          ]
        }
      ]
    },
    {
      "cell_type": "code",
      "metadata": {
        "colab": {
          "base_uri": "https://localhost:8080/"
        },
        "id": "rABwtISsFgZ_",
        "outputId": "151e9836-253a-400b-8944-5d14404577ec"
      },
      "source": [
        "df['LABEL'].value_counts()"
      ],
      "id": "rABwtISsFgZ_",
      "execution_count": null,
      "outputs": [
        {
          "output_type": "execute_result",
          "data": {
            "text/plain": [
              "2    830014\n",
              "4    490528\n",
              "3    281455\n",
              "1    278468\n",
              "Name: LABEL, dtype: int64"
            ]
          },
          "metadata": {},
          "execution_count": 29
        }
      ]
    },
    {
      "cell_type": "code",
      "metadata": {
        "colab": {
          "base_uri": "https://localhost:8080/"
        },
        "id": "D-f8FGZt6tSV",
        "outputId": "b214ee0b-fa18-43d8-cc36-9d9566c991ab"
      },
      "source": [
        "X = df.drop(['FOD_ID','START_DATE','DISCOVERY_TIME','END_DATE','CONT_TIME','FIRE_SIZE_CLASS','COUNTY','LABEL'], axis=1).values\n",
        "y = df['LABEL'].values\n",
        "print(set(y))\n",
        "#print(df.columns)"
      ],
      "id": "D-f8FGZt6tSV",
      "execution_count": null,
      "outputs": [
        {
          "output_type": "stream",
          "name": "stdout",
          "text": [
            "{1, 2, 3, 4}\n"
          ]
        }
      ]
    },
    {
      "cell_type": "code",
      "metadata": {
        "id": "gsXOqQ_FjIyL"
      },
      "source": [
        "X_train, X_test, y_train, y_test = train_test_split(X,y,test_size=0.3, random_state=0)"
      ],
      "id": "gsXOqQ_FjIyL",
      "execution_count": null,
      "outputs": []
    },
    {
      "cell_type": "code",
      "metadata": {
        "colab": {
          "base_uri": "https://localhost:8080/"
        },
        "id": "_DD0eJruVHFd",
        "outputId": "b58a6f23-35b6-4e89-c0d6-f606f5164629"
      },
      "source": [
        "import torch\n",
        "# Checking if CUDA is available\n",
        "flag_cuda = torch.cuda.is_available()\n",
        "\n",
        "if not flag_cuda:\n",
        "    print('Using CPU')\n",
        "else:\n",
        "    print('Using GPU')\n",
        "\n"
      ],
      "id": "_DD0eJruVHFd",
      "execution_count": null,
      "outputs": [
        {
          "output_type": "stream",
          "name": "stdout",
          "text": [
            "Using CPU\n"
          ]
        }
      ]
    },
    {
      "cell_type": "markdown",
      "metadata": {
        "id": "mpx6Gw11PHTa"
      },
      "source": [
        "# General Methods"
      ],
      "id": "mpx6Gw11PHTa"
    },
    {
      "cell_type": "markdown",
      "metadata": {
        "id": "9wsG4kEPAWZo"
      },
      "source": [
        "## Random Forest Classifier"
      ],
      "id": "9wsG4kEPAWZo"
    },
    {
      "cell_type": "code",
      "metadata": {
        "colab": {
          "base_uri": "https://localhost:8080/"
        },
        "id": "0XtXIA837gSf",
        "outputId": "b118b9d0-d108-4857-ae6f-74079fd6f322"
      },
      "source": [
        "model2 = ske.RandomForestClassifier(n_estimators=50)\n",
        "model2 = model2.fit(X_train, y_train)\n",
        "print(model2.score(X_test,y_test))"
      ],
      "id": "0XtXIA837gSf",
      "execution_count": null,
      "outputs": [
        {
          "name": "stdout",
          "output_type": "stream",
          "text": [
            "0.6959105895699649\n"
          ]
        }
      ]
    },
    {
      "cell_type": "code",
      "metadata": {
        "colab": {
          "base_uri": "https://localhost:8080/"
        },
        "id": "M8bag2HMfNKm",
        "outputId": "dc388fb6-cd99-4fe0-86cc-f33659bf1509"
      },
      "source": [
        "y_pred = model2.fit(X_train, y_train).predict(X_test)\n",
        "#y_pred = model2.predict(X_test)\n",
        "cm = confusion_matrix(y_true=y_test,y_pred=y_pred)\n",
        "print(cm)\n",
        "print(classification_report(y_test, y_pred))"
      ],
      "id": "M8bag2HMfNKm",
      "execution_count": null,
      "outputs": [
        {
          "name": "stdout",
          "output_type": "stream",
          "text": [
            "[[ 65901  11512   1033   4870]\n",
            " [ 11146 196655  18223  23304]\n",
            " [  1611  34437  40494   7628]\n",
            " [  6812  44943   5900  89671]]\n"
          ]
        }
      ]
    },
    {
      "cell_type": "code",
      "metadata": {
        "colab": {
          "base_uri": "https://localhost:8080/",
          "height": 606
        },
        "id": "PwaX9AdQhb6X",
        "outputId": "11f12bac-fa82-4e94-fb1b-5e3906badf24"
      },
      "source": [
        "cmn = cm.astype('float') / cm.sum(axis=1)[:, np.newaxis]\n",
        "fig,ax = plt.subplots(figsize=(10,10))\n",
        "ax.matshow(cmn,cmap=plt.cm.Oranges,alpha=0.7)\n",
        "for i in range(cmn.shape[0]):\n",
        "    for j in range(cmn.shape[1]):\n",
        "        ax.text(x=j,y=i,s=cmn[i,j],va='center',ha='center')\n",
        "plt.xlabel('predicted label')\n",
        "plt.ylabel('true label')\n",
        "plt.show()"
      ],
      "id": "PwaX9AdQhb6X",
      "execution_count": null,
      "outputs": [
        {
          "data": {
            "image/png": "[encoded data removed]",
            "text/plain": [
              "<Figure size 720x720 with 1 Axes>"
            ]
          },
          "metadata": {},
          "output_type": "display_data"
        }
      ]
    },
    {
      "cell_type": "code",
      "metadata": {
        "colab": {
          "base_uri": "https://localhost:8080/",
          "height": 296
        },
        "id": "zTGuZhvFhpCE",
        "outputId": "564e4647-c7fb-4533-fa48-c330d943c956"
      },
      "source": [
        "cm_rfc = confusion_matrix(y_test,y_pred,normalize='true')\n",
        "disp = ConfusionMatrixDisplay(confusion_matrix=cm_rfc,display_labels=['natural','accidental','malicious','other'])\n",
        "disp.plot()"
      ],
      "id": "zTGuZhvFhpCE",
      "execution_count": null,
      "outputs": [
        {
          "data": {
            "text/plain": [
              "<sklearn.metrics._plot.confusion_matrix.ConfusionMatrixDisplay at 0x7f6917957910>"
            ]
          },
          "execution_count": 37,
          "metadata": {},
          "output_type": "execute_result"
        },
        {
          "data": {
            "image/png": "[encoded data removed]",
            "text/plain": [
              "<Figure size 432x288 with 2 Axes>"
            ]
          },
          "metadata": {},
          "output_type": "display_data"
        }
      ]
    },
    {
      "cell_type": "markdown",
      "metadata": {
        "id": "Ic1XRWHWoJIp"
      },
      "source": [
        "\n",
        "## SVM"
      ],
      "id": "Ic1XRWHWoJIp"
    },
    {
      "cell_type": "code",
      "metadata": {
        "id": "iCP4sKlyoLIY",
        "colab": {
          "base_uri": "https://localhost:8080/"
        },
        "outputId": "257f8b12-1378-4976-9bea-b408094744fe"
      },
      "source": [
        "\n",
        "svm.fit(X_train, y_train)\n",
        "# predicting the test dataset values \n",
        "y_pred = svm.predict(X_test)\n",
        "# printing classification report which has precision,recall,accuraccy...etc\n",
        "print(classification_report(y_test, y_pred))"
      ],
      "id": "iCP4sKlyoLIY",
      "execution_count": null,
      "outputs": [
        {
          "output_type": "error",
          "ename": "NameError",
          "evalue": "ignored",
          "traceback": [
            "\u001b[0;31m---------------------------------------------------------------------------\u001b[0m",
            "\u001b[0;31mNameError\u001b[0m                                 Traceback (most recent call last)",
            "\u001b[0;32m<ipython-input-38-c1165a1f950b>\u001b[0m in \u001b[0;36m<module>\u001b[0;34m()\u001b[0m\n\u001b[1;32m      1\u001b[0m \u001b[0;34m\u001b[0m\u001b[0m\n\u001b[0;32m----> 2\u001b[0;31m \u001b[0msvm\u001b[0m\u001b[0;34m.\u001b[0m\u001b[0mfit\u001b[0m\u001b[0;34m(\u001b[0m\u001b[0mX_train\u001b[0m\u001b[0;34m,\u001b[0m \u001b[0my_train\u001b[0m\u001b[0;34m)\u001b[0m\u001b[0;34m\u001b[0m\u001b[0;34m\u001b[0m\u001b[0m\n\u001b[0m\u001b[1;32m      3\u001b[0m \u001b[0;31m# predicting the test dataset values\u001b[0m\u001b[0;34m\u001b[0m\u001b[0;34m\u001b[0m\u001b[0;34m\u001b[0m\u001b[0m\n\u001b[1;32m      4\u001b[0m \u001b[0my_pred\u001b[0m \u001b[0;34m=\u001b[0m \u001b[0msvm\u001b[0m\u001b[0;34m.\u001b[0m\u001b[0mpredict\u001b[0m\u001b[0;34m(\u001b[0m\u001b[0mX_test\u001b[0m\u001b[0;34m)\u001b[0m\u001b[0;34m\u001b[0m\u001b[0;34m\u001b[0m\u001b[0m\n\u001b[1;32m      5\u001b[0m \u001b[0;31m# printing classification report which has precision,recall,accuraccy...etc\u001b[0m\u001b[0;34m\u001b[0m\u001b[0;34m\u001b[0m\u001b[0;34m\u001b[0m\u001b[0m\n",
            "\u001b[0;31mNameError\u001b[0m: name 'svm' is not defined"
          ]
        }
      ]
    },
    {
      "cell_type": "code",
      "metadata": {
        "id": "UQbDg-dlBaz9"
      },
      "source": [
        "\n",
        "svm = SVC(kernel='rbf', C = 10)\n",
        "svm.fit(X_train, y_train)\n",
        "# predicting the test dataset values \n",
        "y_pred = svm.predict(X_test)\n",
        "# printing classification report which has precision,recall,accuraccy...etc\n",
        "print(classification_report(y_test, y_pred))"
      ],
      "id": "UQbDg-dlBaz9",
      "execution_count": null,
      "outputs": []
    },
    {
      "cell_type": "markdown",
      "metadata": {
        "id": "P6Q9DYCQ9qtQ"
      },
      "source": [
        "## K Nearest Neighbor Classifier"
      ],
      "id": "P6Q9DYCQ9qtQ"
    },
    {
      "cell_type": "code",
      "metadata": {
        "colab": {
          "base_uri": "https://localhost:8080/"
        },
        "id": "o2JhNxen9ufy",
        "outputId": "4429eea4-8196-4736-f5eb-3ec3f1be5c71"
      },
      "source": [
        "from sklearn.neighbors import KNeighborsClassifier\n",
        "\n",
        "knn = KNeighborsClassifier(n_neighbors = 5)\n",
        "knn.fit(X_train, y_train)\n",
        "#knn.score(X_test, y_test)\n",
        "y_pred_knn = knn.predict(X_test)\n",
        "print(classification_report(y_test, y_pred_knn))"
      ],
      "id": "o2JhNxen9ufy",
      "execution_count": null,
      "outputs": [
        {
          "name": "stdout",
          "output_type": "stream",
          "text": [
            "              precision    recall  f1-score   support\n",
            "\n",
            "           1       0.67      0.77      0.72     83316\n",
            "           2       0.64      0.74      0.69    249328\n",
            "           3       0.49      0.37      0.42     84170\n",
            "           4       0.68      0.54      0.60    147326\n",
            "\n",
            "    accuracy                           0.64    564140\n",
            "   macro avg       0.62      0.61      0.61    564140\n",
            "weighted avg       0.63      0.64      0.63    564140\n",
            "\n"
          ]
        }
      ]
    },
    {
      "cell_type": "markdown",
      "metadata": {
        "id": "Sw_Nbml9AMp7"
      },
      "source": [
        "## Multi - Layer Perceptron"
      ],
      "id": "Sw_Nbml9AMp7"
    },
    {
      "cell_type": "code",
      "metadata": {
        "colab": {
          "background_save": true
        },
        "id": "AQ_Iesq-_35V"
      },
      "source": [
        "from sklearn.neural_network import MLPClassifier\n",
        "\n",
        "mlp = MLPClassifier()\n",
        "mlp.fit(X_train,y_train)\n",
        "#mlp.score(X_test, y_test)\n",
        "y_pred_mlp = mlp.predict(X_test)\n",
        "print(classification_report(y_test, y_pred_mlp))"
      ],
      "id": "AQ_Iesq-_35V",
      "execution_count": null,
      "outputs": []
    },
    {
      "cell_type": "markdown",
      "metadata": {
        "id": "nRrq9zB1k43G"
      },
      "source": [
        "## ANN"
      ],
      "id": "nRrq9zB1k43G"
    },
    {
      "cell_type": "code",
      "metadata": {
        "id": "HV15HSmyk4bf"
      },
      "source": [
        "from keras.models import Sequential\n",
        "from keras.layers import Dense\n",
        "from keras.layers import Dropout"
      ],
      "id": "HV15HSmyk4bf",
      "execution_count": null,
      "outputs": []
    },
    {
      "cell_type": "code",
      "metadata": {
        "colab": {
          "base_uri": "https://localhost:8080/"
        },
        "id": "DUcY6Mt_k7xd",
        "outputId": "2372ee07-20ee-4132-aceb-ea5a80b7c7a9"
      },
      "source": [
        "ann=Sequential()\n",
        "ann.add(Dense(128, activation='relu'))\n",
        "ann.add(Dropout(0.2))                \n",
        "ann.add(Dense(128, activation='relu'))\n",
        "ann.add(Dropout(0.2))\n",
        "ann.add(Dense(64, activation='relu')) \n",
        "ann.add(Dropout(0.2))\n",
        "ann.add(Dense(1, activation='sigmoid'))\n",
        "\n",
        "ann.compile(optimizer='adam', loss='binary_crossentropy', metrics =['accuracy']) \n",
        "\n",
        "ann.fit(X_train, y_train, batch_size=100, epochs=10, verbose=1) \n"
      ],
      "id": "DUcY6Mt_k7xd",
      "execution_count": null,
      "outputs": [
        {
          "name": "stdout",
          "output_type": "stream",
          "text": [
            "Epoch 1/10\n",
            "13164/13164 [==============================] - 35s 3ms/step - loss: -40267461689344.0000 - accuracy: 0.1483\n",
            "Epoch 2/10\n",
            "13164/13164 [==============================] - 35s 3ms/step - loss: -726570624876544.0000 - accuracy: 0.1483\n",
            "Epoch 3/10\n",
            "13164/13164 [==============================] - 37s 3ms/step - loss: -3755046151913472.0000 - accuracy: 0.1483\n",
            "Epoch 4/10\n",
            "13164/13164 [==============================] - 37s 3ms/step - loss: -11830888996274176.0000 - accuracy: 0.1483\n",
            "Epoch 5/10\n",
            "13164/13164 [==============================] - 36s 3ms/step - loss: -28603769226788864.0000 - accuracy: 0.1483\n",
            "Epoch 6/10\n",
            "13164/13164 [==============================] - 35s 3ms/step - loss: -58655934569775104.0000 - accuracy: 0.1483\n",
            "Epoch 7/10\n",
            "13164/13164 [==============================] - 36s 3ms/step - loss: -107523071736283136.0000 - accuracy: 0.1483\n",
            "Epoch 8/10\n",
            "13164/13164 [==============================] - 36s 3ms/step - loss: -181579277265797120.0000 - accuracy: 0.1483\n",
            "Epoch 9/10\n",
            "13164/13164 [==============================] - 35s 3ms/step - loss: -288413891514335232.0000 - accuracy: 0.1483\n",
            "Epoch 10/10\n",
            "13164/13164 [==============================] - 35s 3ms/step - loss: -436087923851395072.0000 - accuracy: 0.1483\n"
          ]
        },
        {
          "data": {
            "text/plain": [
              "<keras.callbacks.History at 0x7f2e7bba0490>"
            ]
          },
          "execution_count": 50,
          "metadata": {},
          "output_type": "execute_result"
        }
      ]
    },
    {
      "cell_type": "code",
      "metadata": {
        "colab": {
          "base_uri": "https://localhost:8080/"
        },
        "id": "DUgNxLXov9no",
        "outputId": "5bc32e65-e03d-4af9-8a51-7d7c3ba06150"
      },
      "source": [
        "ann.summary()"
      ],
      "id": "DUgNxLXov9no",
      "execution_count": null,
      "outputs": [
        {
          "name": "stdout",
          "output_type": "stream",
          "text": [
            "Model: \"sequential_7\"\n",
            "_________________________________________________________________\n",
            "Layer (type)                 Output Shape              Param #   \n",
            "=================================================================\n",
            "dense_25 (Dense)             (None, 128)               1024      \n",
            "_________________________________________________________________\n",
            "dropout_3 (Dropout)          (None, 128)               0         \n",
            "_________________________________________________________________\n",
            "dense_26 (Dense)             (None, 128)               16512     \n",
            "_________________________________________________________________\n",
            "dropout_4 (Dropout)          (None, 128)               0         \n",
            "_________________________________________________________________\n",
            "dense_27 (Dense)             (None, 64)                8256      \n",
            "_________________________________________________________________\n",
            "dropout_5 (Dropout)          (None, 64)                0         \n",
            "_________________________________________________________________\n",
            "dense_28 (Dense)             (None, 1)                 65        \n",
            "=================================================================\n",
            "Total params: 25,857\n",
            "Trainable params: 25,857\n",
            "Non-trainable params: 0\n",
            "_________________________________________________________________\n"
          ]
        }
      ]
    },
    {
      "cell_type": "code",
      "metadata": {
        "colab": {
          "base_uri": "https://localhost:8080/"
        },
        "id": "4qly3hphlTDv",
        "outputId": "3209fc39-2677-4dc4-d5be-7c1d67819a47"
      },
      "source": [
        "y_pred_ann = ann.predict(X_test)\n",
        "print(classification_report(y_test,y_pred_ann))"
      ],
      "id": "4qly3hphlTDv",
      "execution_count": null,
      "outputs": [
        {
          "name": "stderr",
          "output_type": "stream",
          "text": [
            "/usr/local/lib/python3.7/dist-packages/sklearn/metrics/_classification.py:1272: UndefinedMetricWarning: Precision and F-score are ill-defined and being set to 0.0 in labels with no predicted samples. Use `zero_division` parameter to control this behavior.\n",
            "  _warn_prf(average, modifier, msg_start, len(result))\n"
          ]
        },
        {
          "name": "stdout",
          "output_type": "stream",
          "text": [
            "              precision    recall  f1-score   support\n",
            "\n",
            "           1       0.15      1.00      0.26     83316\n",
            "           2       0.00      0.00      0.00    249328\n",
            "           3       0.00      0.00      0.00     84170\n",
            "           4       0.00      0.00      0.00    147326\n",
            "\n",
            "    accuracy                           0.15    564140\n",
            "   macro avg       0.04      0.25      0.06    564140\n",
            "weighted avg       0.02      0.15      0.04    564140\n",
            "\n"
          ]
        }
      ]
    },
    {
      "cell_type": "markdown",
      "metadata": {
        "id": "tOH0ikIHIORo"
      },
      "source": [
        "## CNN"
      ],
      "id": "tOH0ikIHIORo"
    },
    {
      "cell_type": "code",
      "metadata": {
        "id": "bVfwQIOEIUa9"
      },
      "source": [
        "import tensorflow as tf\n",
        "from tensorflow import keras\n",
        "from keras.models import Sequential\n",
        "from keras.layers import Dense\n",
        "from keras.layers import BatchNormalization, Dropout,Conv1D, Conv2D, MaxPooling1D, Flatten, LSTM\n",
        "from keras.layers import LeakyReLU, PReLU, ELU, Activation, GRU, SimpleRNN"
      ],
      "id": "bVfwQIOEIUa9",
      "execution_count": null,
      "outputs": []
    },
    {
      "cell_type": "code",
      "metadata": {
        "id": "HuGLaPd7IQev"
      },
      "source": [
        "model = Sequential()\n",
        "#input_shape=(train_X.shape[0],train_X.shape[1])\n",
        "model.add(Conv1D(filters=256, kernel_size=10, activation='relu'))\n",
        "model.add(MaxPooling1D(pool_size=3))\n",
        "model.add(Conv1D(filters=128, kernel_size=10, activation='relu'))\n",
        "model.add(MaxPooling1D(pool_size=3))\n",
        "model.add(Dropout(0.5))\n",
        "model.add(Conv1D(filters=128, kernel_size=5, activation='relu'))\n",
        "model.add(MaxPooling1D(pool_size=3))\n",
        "model.add(Conv1D(filters=64, kernel_size=5, activation='relu'))\n",
        "model.add(MaxPooling1D(pool_size=3))\n",
        "model.add(GRU(256, return_sequences=True))\n",
        "model.add(LSTM(128))\n",
        "model.add(Dense(256,activation='relu'))\n",
        "model.add(Dense(1025,activation='relu'))\n",
        "model.compile(loss='mse', optimizer='adam',metrics=['mse'])"
      ],
      "id": "HuGLaPd7IQev",
      "execution_count": null,
      "outputs": []
    },
    {
      "cell_type": "code",
      "metadata": {
        "colab": {
          "base_uri": "https://localhost:8080/"
        },
        "id": "VgAnKzgBJjag",
        "outputId": "fdfc08d1-8cd7-4b7b-9274-7c511a92ff2f"
      },
      "source": [
        "print(X_train.shape)\n",
        "print(y_train.shape)  "
      ],
      "id": "VgAnKzgBJjag",
      "execution_count": null,
      "outputs": [
        {
          "name": "stdout",
          "output_type": "stream",
          "text": [
            "(1316325, 7)\n",
            "(1316325,)\n"
          ]
        }
      ]
    },
    {
      "cell_type": "code",
      "metadata": {
        "colab": {
          "base_uri": "https://localhost:8080/",
          "height": 244
        },
        "id": "p1ttE12ZLkX7",
        "outputId": "ede22042-017d-4eab-855d-851120e63575"
      },
      "source": [
        "train_X = X_train.reshape((X_train.shape[0],1, X_train.shape[1]))\n",
        "train_Y = [y_train]#.reshape((y_train.shape[0], 1))\n",
        "#train_Y = y_train.reshape((train_Y.shape[0],1, train_Y.shape[1]))\n",
        "#test_X = test_X.reshape((test_X.shape[0], 1, test_X.shape[1]))\n",
        "#print(train_X.shape, train_y.shape, test_X.shape, test_y.shape)\n",
        "print(train_X.shape)\n",
        "print(train_Y.shape)\n"
      ],
      "id": "p1ttE12ZLkX7",
      "execution_count": null,
      "outputs": [
        {
          "ename": "AttributeError",
          "evalue": "ignored",
          "output_type": "error",
          "traceback": [
            "\u001b[0;31m---------------------------------------------------------------------------\u001b[0m",
            "\u001b[0;31mAttributeError\u001b[0m                            Traceback (most recent call last)",
            "\u001b[0;32m<ipython-input-30-90f356eabdbe>\u001b[0m in \u001b[0;36m<module>\u001b[0;34m()\u001b[0m\n\u001b[1;32m      1\u001b[0m \u001b[0mtrain_X\u001b[0m \u001b[0;34m=\u001b[0m \u001b[0mX_train\u001b[0m\u001b[0;34m.\u001b[0m\u001b[0mreshape\u001b[0m\u001b[0;34m(\u001b[0m\u001b[0;34m(\u001b[0m\u001b[0mX_train\u001b[0m\u001b[0;34m.\u001b[0m\u001b[0mshape\u001b[0m\u001b[0;34m[\u001b[0m\u001b[0;36m0\u001b[0m\u001b[0;34m]\u001b[0m\u001b[0;34m,\u001b[0m\u001b[0;36m1\u001b[0m\u001b[0;34m,\u001b[0m \u001b[0mX_train\u001b[0m\u001b[0;34m.\u001b[0m\u001b[0mshape\u001b[0m\u001b[0;34m[\u001b[0m\u001b[0;36m1\u001b[0m\u001b[0;34m]\u001b[0m\u001b[0;34m)\u001b[0m\u001b[0;34m)\u001b[0m\u001b[0;34m\u001b[0m\u001b[0;34m\u001b[0m\u001b[0m\n\u001b[0;32m----> 2\u001b[0;31m \u001b[0mtrain_Y\u001b[0m \u001b[0;34m=\u001b[0m \u001b[0;34m[\u001b[0m\u001b[0my_train\u001b[0m\u001b[0;34m]\u001b[0m\u001b[0;34m.\u001b[0m\u001b[0mreshape\u001b[0m\u001b[0;34m(\u001b[0m\u001b[0;34m(\u001b[0m\u001b[0my_train\u001b[0m\u001b[0;34m.\u001b[0m\u001b[0mshape\u001b[0m\u001b[0;34m[\u001b[0m\u001b[0;36m0\u001b[0m\u001b[0;34m]\u001b[0m\u001b[0;34m,\u001b[0m \u001b[0;36m1\u001b[0m\u001b[0;34m)\u001b[0m\u001b[0;34m)\u001b[0m\u001b[0;34m\u001b[0m\u001b[0;34m\u001b[0m\u001b[0m\n\u001b[0m\u001b[1;32m      3\u001b[0m \u001b[0;31m#train_Y = y_train.reshape((train_Y.shape[0],1, train_Y.shape[1]))\u001b[0m\u001b[0;34m\u001b[0m\u001b[0;34m\u001b[0m\u001b[0;34m\u001b[0m\u001b[0m\n\u001b[1;32m      4\u001b[0m \u001b[0;31m#test_X = test_X.reshape((test_X.shape[0], 1, test_X.shape[1]))\u001b[0m\u001b[0;34m\u001b[0m\u001b[0;34m\u001b[0m\u001b[0;34m\u001b[0m\u001b[0m\n\u001b[1;32m      5\u001b[0m \u001b[0;31m#print(train_X.shape, train_y.shape, test_X.shape, test_y.shape)\u001b[0m\u001b[0;34m\u001b[0m\u001b[0;34m\u001b[0m\u001b[0;34m\u001b[0m\u001b[0m\n",
            "\u001b[0;31mAttributeError\u001b[0m: 'list' object has no attribute 'reshape'"
          ]
        }
      ]
    },
    {
      "cell_type": "code",
      "metadata": {
        "colab": {
          "base_uri": "https://localhost:8080/",
          "height": 340
        },
        "id": "rZsyEvpLIe6I",
        "outputId": "a4ab19e9-040c-4e0b-ad96-7194b46412a1"
      },
      "source": [
        "hist = model.fit(train_X, train_Y, batch_size=100, epochs=3)"
      ],
      "id": "rZsyEvpLIe6I",
      "execution_count": null,
      "outputs": [
        {
          "name": "stdout",
          "output_type": "stream",
          "text": [
            "Epoch 1/3\n"
          ]
        },
        {
          "ename": "TypeError",
          "evalue": "ignored",
          "output_type": "error",
          "traceback": [
            "\u001b[0;31m---------------------------------------------------------------------------\u001b[0m",
            "\u001b[0;31mTypeError\u001b[0m                                 Traceback (most recent call last)",
            "\u001b[0;32m<ipython-input-88-2e5f633bd68b>\u001b[0m in \u001b[0;36m<module>\u001b[0;34m()\u001b[0m\n\u001b[0;32m----> 1\u001b[0;31m \u001b[0mhist\u001b[0m \u001b[0;34m=\u001b[0m \u001b[0mmodel\u001b[0m\u001b[0;34m.\u001b[0m\u001b[0mfit\u001b[0m\u001b[0;34m(\u001b[0m\u001b[0mtrain_X\u001b[0m\u001b[0;34m,\u001b[0m \u001b[0mtrain_Y\u001b[0m\u001b[0;34m,\u001b[0m \u001b[0mbatch_size\u001b[0m\u001b[0;34m=\u001b[0m\u001b[0;36m100\u001b[0m\u001b[0;34m,\u001b[0m \u001b[0mepochs\u001b[0m\u001b[0;34m=\u001b[0m\u001b[0;36m3\u001b[0m\u001b[0;34m)\u001b[0m\u001b[0;34m\u001b[0m\u001b[0;34m\u001b[0m\u001b[0m\n\u001b[0m",
            "\u001b[0;32m/usr/local/lib/python3.7/dist-packages/keras/engine/training.py\u001b[0m in \u001b[0;36mfit\u001b[0;34m(self, x, y, batch_size, epochs, verbose, callbacks, validation_split, validation_data, shuffle, class_weight, sample_weight, initial_epoch, steps_per_epoch, validation_steps, validation_batch_size, validation_freq, max_queue_size, workers, use_multiprocessing)\u001b[0m\n\u001b[1;32m   1182\u001b[0m                 _r=1):\n\u001b[1;32m   1183\u001b[0m               \u001b[0mcallbacks\u001b[0m\u001b[0;34m.\u001b[0m\u001b[0mon_train_batch_begin\u001b[0m\u001b[0;34m(\u001b[0m\u001b[0mstep\u001b[0m\u001b[0;34m)\u001b[0m\u001b[0;34m\u001b[0m\u001b[0;34m\u001b[0m\u001b[0m\n\u001b[0;32m-> 1184\u001b[0;31m               \u001b[0mtmp_logs\u001b[0m \u001b[0;34m=\u001b[0m \u001b[0mself\u001b[0m\u001b[0;34m.\u001b[0m\u001b[0mtrain_function\u001b[0m\u001b[0;34m(\u001b[0m\u001b[0miterator\u001b[0m\u001b[0;34m)\u001b[0m\u001b[0;34m\u001b[0m\u001b[0;34m\u001b[0m\u001b[0m\n\u001b[0m\u001b[1;32m   1185\u001b[0m               \u001b[0;32mif\u001b[0m \u001b[0mdata_handler\u001b[0m\u001b[0;34m.\u001b[0m\u001b[0mshould_sync\u001b[0m\u001b[0;34m:\u001b[0m\u001b[0;34m\u001b[0m\u001b[0;34m\u001b[0m\u001b[0m\n\u001b[1;32m   1186\u001b[0m                 \u001b[0mcontext\u001b[0m\u001b[0;34m.\u001b[0m\u001b[0masync_wait\u001b[0m\u001b[0;34m(\u001b[0m\u001b[0;34m)\u001b[0m\u001b[0;34m\u001b[0m\u001b[0;34m\u001b[0m\u001b[0m\n",
            "\u001b[0;32m/usr/local/lib/python3.7/dist-packages/tensorflow/python/eager/def_function.py\u001b[0m in \u001b[0;36m__call__\u001b[0;34m(self, *args, **kwds)\u001b[0m\n\u001b[1;32m    883\u001b[0m \u001b[0;34m\u001b[0m\u001b[0m\n\u001b[1;32m    884\u001b[0m       \u001b[0;32mwith\u001b[0m \u001b[0mOptionalXlaContext\u001b[0m\u001b[0;34m(\u001b[0m\u001b[0mself\u001b[0m\u001b[0;34m.\u001b[0m\u001b[0m_jit_compile\u001b[0m\u001b[0;34m)\u001b[0m\u001b[0;34m:\u001b[0m\u001b[0;34m\u001b[0m\u001b[0;34m\u001b[0m\u001b[0m\n\u001b[0;32m--> 885\u001b[0;31m         \u001b[0mresult\u001b[0m \u001b[0;34m=\u001b[0m \u001b[0mself\u001b[0m\u001b[0;34m.\u001b[0m\u001b[0m_call\u001b[0m\u001b[0;34m(\u001b[0m\u001b[0;34m*\u001b[0m\u001b[0margs\u001b[0m\u001b[0;34m,\u001b[0m \u001b[0;34m**\u001b[0m\u001b[0mkwds\u001b[0m\u001b[0;34m)\u001b[0m\u001b[0;34m\u001b[0m\u001b[0;34m\u001b[0m\u001b[0m\n\u001b[0m\u001b[1;32m    886\u001b[0m \u001b[0;34m\u001b[0m\u001b[0m\n\u001b[1;32m    887\u001b[0m       \u001b[0mnew_tracing_count\u001b[0m \u001b[0;34m=\u001b[0m \u001b[0mself\u001b[0m\u001b[0;34m.\u001b[0m\u001b[0mexperimental_get_tracing_count\u001b[0m\u001b[0;34m(\u001b[0m\u001b[0;34m)\u001b[0m\u001b[0;34m\u001b[0m\u001b[0;34m\u001b[0m\u001b[0m\n",
            "\u001b[0;32m/usr/local/lib/python3.7/dist-packages/tensorflow/python/eager/def_function.py\u001b[0m in \u001b[0;36m_call\u001b[0;34m(self, *args, **kwds)\u001b[0m\n\u001b[1;32m    915\u001b[0m       \u001b[0;31m# In this case we have created variables on the first call, so we run the\u001b[0m\u001b[0;34m\u001b[0m\u001b[0;34m\u001b[0m\u001b[0;34m\u001b[0m\u001b[0m\n\u001b[1;32m    916\u001b[0m       \u001b[0;31m# defunned version which is guaranteed to never create variables.\u001b[0m\u001b[0;34m\u001b[0m\u001b[0;34m\u001b[0m\u001b[0;34m\u001b[0m\u001b[0m\n\u001b[0;32m--> 917\u001b[0;31m       \u001b[0;32mreturn\u001b[0m \u001b[0mself\u001b[0m\u001b[0;34m.\u001b[0m\u001b[0m_stateless_fn\u001b[0m\u001b[0;34m(\u001b[0m\u001b[0;34m*\u001b[0m\u001b[0margs\u001b[0m\u001b[0;34m,\u001b[0m \u001b[0;34m**\u001b[0m\u001b[0mkwds\u001b[0m\u001b[0;34m)\u001b[0m  \u001b[0;31m# pylint: disable=not-callable\u001b[0m\u001b[0;34m\u001b[0m\u001b[0;34m\u001b[0m\u001b[0m\n\u001b[0m\u001b[1;32m    918\u001b[0m     \u001b[0;32melif\u001b[0m \u001b[0mself\u001b[0m\u001b[0;34m.\u001b[0m\u001b[0m_stateful_fn\u001b[0m \u001b[0;32mis\u001b[0m \u001b[0;32mnot\u001b[0m \u001b[0;32mNone\u001b[0m\u001b[0;34m:\u001b[0m\u001b[0;34m\u001b[0m\u001b[0;34m\u001b[0m\u001b[0m\n\u001b[1;32m    919\u001b[0m       \u001b[0;31m# Release the lock early so that multiple threads can perform the call\u001b[0m\u001b[0;34m\u001b[0m\u001b[0;34m\u001b[0m\u001b[0;34m\u001b[0m\u001b[0m\n",
            "\u001b[0;31mTypeError\u001b[0m: 'NoneType' object is not callable"
          ]
        }
      ]
    },
    {
      "cell_type": "code",
      "metadata": {
        "colab": {
          "base_uri": "https://localhost:8080/"
        },
        "id": "RXcXsXi8P8ZR",
        "outputId": "42065952-7551-4fee-d0ec-e34f698e0634"
      },
      "source": [
        "model.summary()"
      ],
      "id": "RXcXsXi8P8ZR",
      "execution_count": null,
      "outputs": [
        {
          "name": "stdout",
          "output_type": "stream",
          "text": [
            "Model: \"sequential_16\"\n",
            "_________________________________________________________________\n",
            "Layer (type)                 Output Shape              Param #   \n",
            "=================================================================\n",
            "conv1d_45 (Conv1D)           multiple                  2816      \n",
            "_________________________________________________________________\n",
            "max_pooling1d_44 (MaxPooling multiple                  0 (unused)\n",
            "_________________________________________________________________\n",
            "conv1d_46 (Conv1D)           multiple                  0 (unused)\n",
            "_________________________________________________________________\n",
            "max_pooling1d_45 (MaxPooling multiple                  0 (unused)\n",
            "_________________________________________________________________\n",
            "dropout_11 (Dropout)         multiple                  0 (unused)\n",
            "_________________________________________________________________\n",
            "conv1d_47 (Conv1D)           multiple                  0 (unused)\n",
            "_________________________________________________________________\n",
            "max_pooling1d_46 (MaxPooling multiple                  0 (unused)\n",
            "_________________________________________________________________\n",
            "conv1d_48 (Conv1D)           multiple                  0 (unused)\n",
            "_________________________________________________________________\n",
            "max_pooling1d_47 (MaxPooling multiple                  0 (unused)\n",
            "_________________________________________________________________\n",
            "gru_11 (GRU)                 multiple                  0 (unused)\n",
            "_________________________________________________________________\n",
            "lstm_11 (LSTM)               multiple                  0 (unused)\n",
            "_________________________________________________________________\n",
            "dense_22 (Dense)             multiple                  0 (unused)\n",
            "_________________________________________________________________\n",
            "dense_23 (Dense)             multiple                  0 (unused)\n",
            "=================================================================\n",
            "Total params: 2,816\n",
            "Trainable params: 2,816\n",
            "Non-trainable params: 0\n",
            "_________________________________________________________________\n"
          ]
        }
      ]
    },
    {
      "cell_type": "markdown",
      "metadata": {
        "id": "mUVZWd-ENPg3"
      },
      "source": [
        "## Logistic Regression"
      ],
      "id": "mUVZWd-ENPg3"
    },
    {
      "cell_type": "code",
      "metadata": {
        "colab": {
          "base_uri": "https://localhost:8080/"
        },
        "id": "TdTwL2wkrnBh",
        "outputId": "667b1ea0-0a53-4eae-e9d0-d77b604ce392"
      },
      "source": [
        "from sklearn.linear_model import LogisticRegression\n",
        "\n",
        "lr_clf = LogisticRegression(max_iter=1000)\n",
        "lr_clf.fit(X_train, y_train)\n",
        "y_pred_lrcv = lr_clf.predict(X_test)\n",
        "print(classification_report(y_test, y_pred_lrcv))\n"
      ],
      "id": "TdTwL2wkrnBh",
      "execution_count": null,
      "outputs": [
        {
          "output_type": "stream",
          "name": "stderr",
          "text": [
            "/usr/local/lib/python3.7/dist-packages/sklearn/linear_model/_logistic.py:940: ConvergenceWarning: lbfgs failed to converge (status=1):\n",
            "STOP: TOTAL NO. of ITERATIONS REACHED LIMIT.\n",
            "\n",
            "Increase the number of iterations (max_iter) or scale the data as shown in:\n",
            "    https://scikit-learn.org/stable/modules/preprocessing.html\n",
            "Please also refer to the documentation for alternative solver options:\n",
            "    https://scikit-learn.org/stable/modules/linear_model.html#logistic-regression\n",
            "  extra_warning_msg=_LOGISTIC_SOLVER_CONVERGENCE_MSG)\n",
            "/usr/local/lib/python3.7/dist-packages/sklearn/metrics/_classification.py:1272: UndefinedMetricWarning: Precision and F-score are ill-defined and being set to 0.0 in labels with no predicted samples. Use `zero_division` parameter to control this behavior.\n",
            "  _warn_prf(average, modifier, msg_start, len(result))\n"
          ]
        },
        {
          "output_type": "stream",
          "name": "stdout",
          "text": [
            "              precision    recall  f1-score   support\n",
            "\n",
            "           0       0.29      0.01      0.03     84170\n",
            "           1       0.00      0.00      0.00     22818\n",
            "           2       0.00      0.00      0.00     18240\n",
            "           3       0.31      0.80      0.44    129099\n",
            "           4       0.00      0.00      0.00     44329\n",
            "           5       0.00      0.00      0.00      3415\n",
            "           6       0.37      0.74      0.50     83316\n",
            "           7       0.18      0.07      0.10     97026\n",
            "           8       0.39      0.17      0.24     50300\n",
            "           9       0.00      0.00      0.00      4289\n",
            "          10       0.00      0.00      0.00     10053\n",
            "          11       0.00      0.00      0.00     15925\n",
            "          12       0.00      0.00      0.00      1160\n",
            "\n",
            "    accuracy                           0.32    564140\n",
            "   macro avg       0.12      0.14      0.10    564140\n",
            "weighted avg       0.23      0.32      0.22    564140\n",
            "\n"
          ]
        }
      ]
    },
    {
      "cell_type": "markdown",
      "metadata": {
        "id": "-xxMSL2ZNZ_4"
      },
      "source": [
        "# LSTM"
      ],
      "id": "-xxMSL2ZNZ_4"
    },
    {
      "cell_type": "code",
      "metadata": {
        "id": "wftm6izlNb93"
      },
      "source": [
        "from sklearn.preprocessing import RobustScaler\n",
        "from keras.models import Sequential\n",
        "from keras.layers import Dense, Flatten\n",
        "from keras.layers import Dropout, Conv1D, MaxPooling1D\n",
        "import keras.utils\n",
        "from keras.utils.np_utils import to_categorical\n",
        "from keras.layers import LSTM\n",
        "\n"
      ],
      "id": "wftm6izlNb93",
      "execution_count": null,
      "outputs": []
    },
    {
      "cell_type": "code",
      "metadata": {
        "colab": {
          "base_uri": "https://localhost:8080/"
        },
        "id": "k65eFsl7QEDo",
        "outputId": "c0b06ec2-3d98-407b-99c7-580bf84dcc0a"
      },
      "source": [
        "xdf = df.drop(['FOD_ID','START_DATE','DISCOVERY_TIME','END_DATE','CONT_TIME','FIRE_SIZE_CLASS','COUNTY','LABEL'], axis=1)\n",
        "ydf = df['LABEL']\n",
        "\n",
        "print(xdf.shape)\n",
        "print(ydf.shape)"
      ],
      "id": "k65eFsl7QEDo",
      "execution_count": null,
      "outputs": [
        {
          "output_type": "stream",
          "name": "stdout",
          "text": [
            "(1880465, 7)\n",
            "(1880465,)\n",
            "(1880465, 7)\n",
            "(1880465,)\n"
          ]
        }
      ]
    },
    {
      "cell_type": "code",
      "metadata": {
        "colab": {
          "base_uri": "https://localhost:8080/"
        },
        "id": "g5f-frNSRi0H",
        "outputId": "5a34754c-5a41-4825-d02b-3569c89908a1"
      },
      "source": [
        "x, x_test, y, y_test = train_test_split(xdf,ydf,test_size=0.2,train_size=0.8)\n",
        "x_train, x_val, y_train, y_val = train_test_split(x,y,test_size = 0.25,train_size =0.75)\n",
        "\n",
        "print(\"X_train, Y_train shape\",x_train.shape, y_train.shape)\n",
        "print(\"\\nX_val, Y_val shape\",x_val.shape, y_val.shape)\n",
        "print(\"\\nX_test, Y_test shape\",x_test.shape, y_test.shape)"
      ],
      "id": "g5f-frNSRi0H",
      "execution_count": null,
      "outputs": [
        {
          "output_type": "stream",
          "name": "stdout",
          "text": [
            "X_train, Y_train shape (1128279, 7) (1128279,)\n",
            "\n",
            "X_val, Y_val shape (376093, 7) (376093,)\n",
            "\n",
            "X_test, Y_test shape (376093, 7) (376093,)\n"
          ]
        }
      ]
    },
    {
      "cell_type": "code",
      "metadata": {
        "id": "cb7dyRKNN9Qs"
      },
      "source": [
        "scaler = RobustScaler()\n",
        "\n",
        "scaler_train = scaler.fit(x_train)\n",
        "scaler_val = scaler.fit(x_val)\n",
        "\n",
        "x_train.loc[:] = scaler_train.transform(x_train.to_numpy())\n",
        "x_val.loc[:] = scaler_train.transform(x_val.to_numpy())"
      ],
      "id": "cb7dyRKNN9Qs",
      "execution_count": null,
      "outputs": []
    },
    {
      "cell_type": "code",
      "metadata": {
        "id": "4rAK85GyODDd"
      },
      "source": [
        "from scipy.stats import mode\n",
        "\n",
        "def create_dataset(x, y, timesteps, step):\n",
        "  x_set = []\n",
        "  y_set = []\n",
        "  for i in range(0,len(x)-timesteps, step):\n",
        "    data = x.iloc[i: (i + timesteps)].values\n",
        "    labels = y.iloc[i: i + timesteps]\n",
        "    x_set.append(data)\n",
        "    y_set.append(mode(labels)[0][0])\n",
        "  \n",
        "  return np.array(x_set), np.array(y_set).reshape(-1,1)\n",
        "\n",
        "timesteps = 1\n",
        "steps = 1\n",
        "\n",
        "X_train, Y_train = create_dataset( x_train, y_train, timesteps, steps)\n",
        "X_val , Y_val = create_dataset( x_val, y_val, timesteps, steps)"
      ],
      "id": "4rAK85GyODDd",
      "execution_count": null,
      "outputs": []
    },
    {
      "cell_type": "code",
      "metadata": {
        "colab": {
          "base_uri": "https://localhost:8080/"
        },
        "id": "j7GfT98EOD0_",
        "outputId": "746b06e1-6e6b-4d4a-bad6-2385e5575e9a"
      },
      "source": [
        "from tensorflow.keras.utils import to_categorical\n",
        "\n",
        "print(X_train.shape) #(1116238-timesteps, timesteps, 6)\n",
        "print(Y_train.shape) #(1116238-timesteps, 1)\n",
        "\n",
        "print(X_val.shape) #(177270-timesteps, timesteps, 6)\n",
        "print(Y_val.shape) #(177270-timesteps, timesteps, 1)\n",
        "print()\n",
        "\n",
        "Y_train = to_categorical(Y_train)\n",
        "Y_val = to_categorical(Y_val)\n",
        "print(Y_train.shape) #(1116238-timesteps, 4)\n",
        "print(Y_val.shape) #(177270-timesteps, 4)\n"
      ],
      "id": "j7GfT98EOD0_",
      "execution_count": null,
      "outputs": [
        {
          "output_type": "stream",
          "name": "stdout",
          "text": [
            "(1128278, 1, 7)\n",
            "(1128278, 1)\n",
            "(376092, 1, 7)\n",
            "(376092, 1)\n",
            "\n",
            "(1128278, 5)\n",
            "(376092, 5)\n"
          ]
        }
      ]
    },
    {
      "cell_type": "code",
      "metadata": {
        "id": "uXjnH3xBOFvc"
      },
      "source": [
        "num = 4\n",
        "batch_size = 128\n",
        "epochs = 10"
      ],
      "id": "uXjnH3xBOFvc",
      "execution_count": null,
      "outputs": []
    },
    {
      "cell_type": "code",
      "metadata": {
        "id": "kzly43_IOHZ3"
      },
      "source": [
        "model = keras.Sequential()\n",
        "model.add(keras.layers.Bidirectional(LSTM( units = 128, input_shape = [X_train.shape[1],X_train.shape[2]])))\n",
        "model.add(Dropout(rate = 0.6))\n",
        "model.add(Dense(units=128,activation='relu'))\n",
        "model.add(Dense(units = 64,activation='relu'))\n",
        "model.add(Dense(units=5,activation='softmax'))\n",
        "\n",
        "model.compile(loss= 'categorical_crossentropy', optimizer = 'Adam', metrics = ['Accuracy'])\n"
      ],
      "id": "kzly43_IOHZ3",
      "execution_count": null,
      "outputs": []
    },
    {
      "cell_type": "code",
      "metadata": {
        "colab": {
          "base_uri": "https://localhost:8080/"
        },
        "id": "0KilfYbMXRdl",
        "outputId": "87dd951d-491c-476e-bbc8-ab1588d09781"
      },
      "source": [
        "history = model.fit(X_train,Y_train, epochs = 3, batch_size = batch_size, validation_data= (X_val,Y_val))"
      ],
      "id": "0KilfYbMXRdl",
      "execution_count": null,
      "outputs": [
        {
          "output_type": "stream",
          "name": "stdout",
          "text": [
            "Epoch 1/3\n",
            "8815/8815 [==============================] - 88s 10ms/step - loss: 1.0110 - Accuracy: 0.5625 - val_loss: 0.9487 - val_Accuracy: 0.5948\n",
            "Epoch 2/3\n",
            "8815/8815 [==============================] - 87s 10ms/step - loss: 0.9642 - Accuracy: 0.5881 - val_loss: 0.9265 - val_Accuracy: 0.6019\n",
            "Epoch 3/3\n",
            "8815/8815 [==============================] - 87s 10ms/step - loss: 0.9498 - Accuracy: 0.5955 - val_loss: 0.9159 - val_Accuracy: 0.6108\n"
          ]
        }
      ]
    },
    {
      "cell_type": "code",
      "metadata": {
        "colab": {
          "base_uri": "https://localhost:8080/"
        },
        "id": "X1qOvI5QYlih",
        "outputId": "c56d4f16-d6de-499e-b836-554b7d7d0388"
      },
      "source": [
        "model.summary()\n",
        "y_val_pred = model.predict(X_val)\n",
        "print(y_val_pred.shape)\n",
        "p = np.argmax(y_val_pred,axis=1)\n",
        "q = np.argmax(Y_val,axis=1)\n",
        "print(p.shape)\n",
        "print(q.shape)\n",
        "print(classification_report(q,p))\n"
      ],
      "id": "X1qOvI5QYlih",
      "execution_count": null,
      "outputs": [
        {
          "output_type": "stream",
          "name": "stdout",
          "text": [
            "Model: \"sequential_1\"\n",
            "_________________________________________________________________\n",
            " Layer (type)                Output Shape              Param #   \n",
            "=================================================================\n",
            " bidirectional_1 (Bidirectio  (None, 256)              139264    \n",
            " nal)                                                            \n",
            "                                                                 \n",
            " dropout_1 (Dropout)         (None, 256)               0         \n",
            "                                                                 \n",
            " dense_3 (Dense)             (None, 128)               32896     \n",
            "                                                                 \n",
            " dense_4 (Dense)             (None, 64)                8256      \n",
            "                                                                 \n",
            " dense_5 (Dense)             (None, 5)                 325       \n",
            "                                                                 \n",
            "=================================================================\n",
            "Total params: 180,741\n",
            "Trainable params: 180,741\n",
            "Non-trainable params: 0\n",
            "_________________________________________________________________\n",
            "(376092, 5)\n",
            "(376092,)\n",
            "(376092,)\n",
            "              precision    recall  f1-score   support\n",
            "\n",
            "           1       0.61      0.73      0.66     55638\n",
            "           2       0.60      0.79      0.68    165779\n",
            "           3       0.54      0.22      0.32     56216\n",
            "           4       0.67      0.46      0.55     98459\n",
            "\n",
            "    accuracy                           0.61    376092\n",
            "   macro avg       0.60      0.55      0.55    376092\n",
            "weighted avg       0.61      0.61      0.59    376092\n",
            "\n"
          ]
        }
      ]
    },
    {
      "cell_type": "markdown",
      "metadata": {
        "id": "JTm-2qHsZHn5"
      },
      "source": [
        "# CNN"
      ],
      "id": "JTm-2qHsZHn5"
    },
    {
      "cell_type": "code",
      "metadata": {
        "colab": {
          "base_uri": "https://localhost:8080/"
        },
        "id": "TLKWThSOZMUA",
        "outputId": "78cef86f-23ca-4353-8468-cdc110eed533"
      },
      "source": [
        "timesteps = 40\n",
        "X_train, Y_train = create_dataset( x_train, y_train, timesteps, steps)\n",
        "X_val , Y_val = create_dataset( x_val, y_val, timesteps, steps)\n",
        "\n",
        "print(X_train.shape) #(1116238-timesteps, timesteps, 6)\n",
        "print(Y_train.shape) #(1116238-timesteps, 1)\n",
        "\n",
        "print(X_val.shape) #(177270-timesteps, timesteps, 6)\n",
        "print(Y_val.shape) #(177270-timesteps, timesteps, 1)\n",
        "print()\n",
        "\n",
        "Y_train = to_categorical(Y_train)\n",
        "Y_val = to_categorical(Y_val)\n",
        "print(Y_train.shape) #(1116238-timesteps, 4)\n",
        "print(Y_val.shape) #(177270-timesteps, 4)\n"
      ],
      "id": "TLKWThSOZMUA",
      "execution_count": null,
      "outputs": [
        {
          "output_type": "stream",
          "name": "stdout",
          "text": [
            "(1128239, 40, 7)\n",
            "(1128239, 1)\n",
            "(376053, 40, 7)\n",
            "(376053, 1)\n",
            "\n",
            "(1128239, 5)\n",
            "(376053, 5)\n"
          ]
        }
      ]
    },
    {
      "cell_type": "code",
      "metadata": {
        "colab": {
          "base_uri": "https://localhost:8080/"
        },
        "id": "YD5yIIPiZJ42",
        "outputId": "80b26a0d-8f33-4b65-c76f-1e52607e030e"
      },
      "source": [
        "model = Sequential()\n",
        "model.add(Conv1D(filters=128, kernel_size=3, activation='relu', input_shape=(X_train.shape[1],X_train.shape[2])))\n",
        "model.add(MaxPooling1D(pool_size=2))\n",
        "model.add(Conv1D(filters=64, kernel_size=3, activation='relu'))\n",
        "model.add(Dropout(0.5))\n",
        "model.add(MaxPooling1D(pool_size=2))\n",
        "model.add(Flatten())\n",
        "model.add(Dense(256, activation='relu'))\n",
        "model.add(Dense(5, activation='softmax'))\n",
        "model.compile(loss='categorical_crossentropy', optimizer='adam', metrics=['accuracy'])\n",
        "model.summary()"
      ],
      "id": "YD5yIIPiZJ42",
      "execution_count": null,
      "outputs": [
        {
          "output_type": "stream",
          "name": "stdout",
          "text": [
            "Model: \"sequential_5\"\n",
            "_________________________________________________________________\n",
            " Layer (type)                Output Shape              Param #   \n",
            "=================================================================\n",
            " conv1d_2 (Conv1D)           (None, 38, 128)           2816      \n",
            "                                                                 \n",
            " max_pooling1d_2 (MaxPooling  (None, 19, 128)          0         \n",
            " 1D)                                                             \n",
            "                                                                 \n",
            " conv1d_3 (Conv1D)           (None, 17, 64)            24640     \n",
            "                                                                 \n",
            " dropout_3 (Dropout)         (None, 17, 64)            0         \n",
            "                                                                 \n",
            " max_pooling1d_3 (MaxPooling  (None, 8, 64)            0         \n",
            " 1D)                                                             \n",
            "                                                                 \n",
            " flatten_1 (Flatten)         (None, 512)               0         \n",
            "                                                                 \n",
            " dense_8 (Dense)             (None, 256)               131328    \n",
            "                                                                 \n",
            " dense_9 (Dense)             (None, 5)                 1285      \n",
            "                                                                 \n",
            "=================================================================\n",
            "Total params: 160,069\n",
            "Trainable params: 160,069\n",
            "Non-trainable params: 0\n",
            "_________________________________________________________________\n"
          ]
        }
      ]
    },
    {
      "cell_type": "code",
      "metadata": {
        "colab": {
          "base_uri": "https://localhost:8080/"
        },
        "id": "bFcQNrlzZa62",
        "outputId": "3066c9ff-246a-40cf-e862-45f8b84a33ab"
      },
      "source": [
        "# fit network\n",
        "model.fit(X_train, Y_train, validation_data=(X_val,Y_val), epochs=2, batch_size=batch_size, verbose=1)\n",
        "  "
      ],
      "id": "bFcQNrlzZa62",
      "execution_count": null,
      "outputs": [
        {
          "output_type": "stream",
          "name": "stdout",
          "text": [
            "Epoch 1/2\n",
            "8815/8815 [==============================] - 226s 26ms/step - loss: 0.2865 - accuracy: 0.9261 - val_loss: 0.2870 - val_accuracy: 0.9249\n",
            "Epoch 2/2\n",
            "8815/8815 [==============================] - 228s 26ms/step - loss: 0.2821 - accuracy: 0.9261 - val_loss: 0.2858 - val_accuracy: 0.9249\n"
          ]
        },
        {
          "output_type": "execute_result",
          "data": {
            "text/plain": [
              "<keras.callbacks.History at 0x7f941bdb0a10>"
            ]
          },
          "metadata": {},
          "execution_count": 68
        }
      ]
    },
    {
      "cell_type": "code",
      "metadata": {
        "colab": {
          "base_uri": "https://localhost:8080/",
          "height": 238
        },
        "id": "HmdUVNVoZetb",
        "outputId": "d569a1b8-6c89-4a45-8a61-8d5b0b34165c"
      },
      "source": [
        "model.summary()\n",
        "y_val_pred = model.predict(X_val)\n",
        "print(y_val_pred.shape)\n",
        "p = np.argmax(y_val_pred,axis=1)\n",
        "q = np.argmax(Y_val,axis=1)\n",
        "print(p.shape)\n",
        "print(classification_report(q,p))\n"
      ],
      "id": "HmdUVNVoZetb",
      "execution_count": null,
      "outputs": [
        {
          "output_type": "error",
          "ename": "NameError",
          "evalue": "ignored",
          "traceback": [
            "\u001b[0;31m---------------------------------------------------------------------------\u001b[0m",
            "\u001b[0;31mNameError\u001b[0m                                 Traceback (most recent call last)",
            "\u001b[0;32m<ipython-input-1-0cf58fd3da45>\u001b[0m in \u001b[0;36m<module>\u001b[0;34m()\u001b[0m\n\u001b[0;32m----> 1\u001b[0;31m \u001b[0mmodel\u001b[0m\u001b[0;34m.\u001b[0m\u001b[0msummary\u001b[0m\u001b[0;34m(\u001b[0m\u001b[0;34m)\u001b[0m\u001b[0;34m\u001b[0m\u001b[0;34m\u001b[0m\u001b[0m\n\u001b[0m\u001b[1;32m      2\u001b[0m \u001b[0my_val_pred\u001b[0m \u001b[0;34m=\u001b[0m \u001b[0mmodel\u001b[0m\u001b[0;34m.\u001b[0m\u001b[0mpredict\u001b[0m\u001b[0;34m(\u001b[0m\u001b[0mX_val\u001b[0m\u001b[0;34m)\u001b[0m\u001b[0;34m\u001b[0m\u001b[0;34m\u001b[0m\u001b[0m\n\u001b[1;32m      3\u001b[0m \u001b[0mprint\u001b[0m\u001b[0;34m(\u001b[0m\u001b[0my_val_pred\u001b[0m\u001b[0;34m.\u001b[0m\u001b[0mshape\u001b[0m\u001b[0;34m)\u001b[0m\u001b[0;34m\u001b[0m\u001b[0;34m\u001b[0m\u001b[0m\n\u001b[1;32m      4\u001b[0m \u001b[0mp\u001b[0m \u001b[0;34m=\u001b[0m \u001b[0mnp\u001b[0m\u001b[0;34m.\u001b[0m\u001b[0margmax\u001b[0m\u001b[0;34m(\u001b[0m\u001b[0my_val_pred\u001b[0m\u001b[0;34m,\u001b[0m\u001b[0maxis\u001b[0m\u001b[0;34m=\u001b[0m\u001b[0;36m1\u001b[0m\u001b[0;34m)\u001b[0m\u001b[0;34m\u001b[0m\u001b[0;34m\u001b[0m\u001b[0m\n\u001b[1;32m      5\u001b[0m \u001b[0mq\u001b[0m \u001b[0;34m=\u001b[0m \u001b[0mnp\u001b[0m\u001b[0;34m.\u001b[0m\u001b[0margmax\u001b[0m\u001b[0;34m(\u001b[0m\u001b[0mY_val\u001b[0m\u001b[0;34m,\u001b[0m\u001b[0maxis\u001b[0m\u001b[0;34m=\u001b[0m\u001b[0;36m1\u001b[0m\u001b[0;34m)\u001b[0m\u001b[0;34m\u001b[0m\u001b[0;34m\u001b[0m\u001b[0m\n",
            "\u001b[0;31mNameError\u001b[0m: name 'model' is not defined"
          ]
        }
      ]
    }
  ]
}